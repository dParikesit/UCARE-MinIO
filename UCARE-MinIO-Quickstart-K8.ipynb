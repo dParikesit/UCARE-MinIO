{
 "cells": [
  {
   "cell_type": "markdown",
   "id": "ea4313e9-0262-4535-a983-bfaf9aa3331f",
   "metadata": {},
   "source": [
    "# Create Resources\n",
    "\n",
    "# ! IMPORTANT\n",
    "Change \\<var\\> with your variable"
   ]
  },
  {
   "cell_type": "code",
   "execution_count": null,
   "id": "916f16ce-e9df-4da8-9abf-6539870c09c8",
   "metadata": {},
   "outputs": [],
   "source": [
    "import chi\n",
    "\n",
    "chi.use_site(\"CHI@UC\")\n",
    "chi.set(\"project_name\", \"<insert projects code, such as CH-XXXXXX\")\n",
    "chi.set(\"image\", \"CC-CentOS7\")\n",
    "chi.set(\"keypair_name\", \"<insert keypair name>\")"
   ]
  },
  {
   "cell_type": "code",
   "execution_count": null,
   "id": "c11982c8-5ec6-4805-ad9c-5b74fdfbaf04",
   "metadata": {},
   "outputs": [],
   "source": [
    "from chi import lease\n",
    "\n",
    "res = []\n",
    "lease.add_node_reservation(res, node_type=\"compute_skylake\", count=1)\n",
    "lease.add_fip_reservation(res, count=1)\n",
    "start_date, end_date = lease.lease_duration(days=7)\n",
    "\n",
    "l = lease.create_lease(\"minio-k8\", res, start_date=start_date, end_date=end_date)\n",
    "\n",
    "print(\"Waiting for lease to start ...\")\n",
    "\n",
    "l = lease.wait_for_active(l[\"id\"])\n",
    "\n",
    "print(\"Lease started!\")\n",
    "\n",
    "reserved_fips = lease.get_reserved_floating_ips(l[\"id\"])\n",
    "print(\"ip =\",reserved_fips[0])"
   ]
  },
  {
   "cell_type": "code",
   "execution_count": null,
   "id": "161e5bbe-e5fe-4c44-b451-39d2a677b1a7",
   "metadata": {},
   "outputs": [],
   "source": [
    "from chi import server\n",
    "reservation_id = \"\"\n",
    "for item in l[\"reservations\"]:\n",
    "    if item[\"resource_type\"] == \"physical:host\":\n",
    "        reservation_id = item[\"id\"]\n",
    "\n",
    "instance = server.create_server(\n",
    "    \"minio-k8-instance\", \n",
    "    reservation_id=reservation_id, \n",
    "    image_name=chi.get(\"image\")\n",
    ")\n",
    "\n",
    "print(\"Creating instance...\")\n",
    "chi.server.wait_for_active(instance.id, timeout=1200)\n",
    "\n",
    "print(\"Associating floating ip\")\n",
    "ip = server.associate_floating_ip(instance.id, reserved_fips[0])\n",
    "\n",
    "server.wait_for_tcp(ip, port=22)\n",
    "print(\"Done! IP=\", ip)"
   ]
  },
  {
   "cell_type": "markdown",
   "id": "9fda58ee-5b31-4a8b-b16b-e2cdd30c6c5e",
   "metadata": {},
   "source": [
    "# ! IMPORTANT\n",
    "If the code below fails, just re-run it again"
   ]
  },
  {
   "cell_type": "code",
   "execution_count": null,
   "id": "1b6ad062-028b-4386-bbda-c2b0037ee152",
   "metadata": {},
   "outputs": [],
   "source": [
    "from chi.ssh import Remote\n",
    "\n",
    "r = Remote(ip=ip)"
   ]
  },
  {
   "cell_type": "code",
   "execution_count": null,
   "id": "fdc5cae5-60a0-4396-8a52-f34bf5dfcce5",
   "metadata": {},
   "outputs": [],
   "source": [
    "r.run('echo \"Hello world!\"')"
   ]
  },
  {
   "cell_type": "markdown",
   "id": "b1ba5416-628f-4a5f-9d4d-6c2f34399b20",
   "metadata": {},
   "source": [
    "# Setup loop devices"
   ]
  },
  {
   "cell_type": "code",
   "execution_count": null,
   "id": "2aa88773-4081-4d9f-b809-03c5103b5bfd",
   "metadata": {},
   "outputs": [],
   "source": [
    "r.run(\"sudo mkdir /mnt/extra\")\n",
    "r.run(\"sudo chown cc /mnt/extra\")\n",
    "r.run(\"mkdir -p /mnt/extra/loop-files/\")\n",
    "\n",
    "# Create loop devices\n",
    "with r.cd(\"/mnt/extra/loop-files/\"):\n",
    "    r.run(\"sudo dd if=/dev/zero of=loopbackfile1.img bs=100M count=250\")\n",
    "    r.run(\"sudo dd if=/dev/zero of=loopbackfile2.img bs=100M count=250\")\n",
    "    r.run(\"sudo dd if=/dev/zero of=loopbackfile3.img bs=100M count=250\")\n",
    "    r.run(\"sudo dd if=/dev/zero of=loopbackfile4.img bs=100M count=250\")\n",
    "    r.run(\"sudo dd if=/dev/zero of=loopbackfile5.img bs=100M count=250\")\n",
    "\n",
    "    r.run(\"sudo losetup -fP loopbackfile1.img\")\n",
    "    r.run(\"sudo losetup -fP loopbackfile2.img\")\n",
    "    r.run(\"sudo losetup -fP loopbackfile3.img\")\n",
    "    r.run(\"sudo losetup -fP loopbackfile4.img\")\n",
    "    r.run(\"sudo losetup -fP loopbackfile5.img\")\n",
    "print(\"Created loop devices\")\n",
    "\n",
    "# Format loop devices\n",
    "r.run('printf \"y\" | sudo mkfs.ext4 /mnt/extra/loop-files/loopbackfile1.img')\n",
    "r.run('printf \"y\" | sudo mkfs.ext4 /mnt/extra/loop-files/loopbackfile2.img')\n",
    "r.run('printf \"y\" | sudo mkfs.ext4 /mnt/extra/loop-files/loopbackfile3.img')\n",
    "r.run('printf \"y\" | sudo mkfs.ext4 /mnt/extra/loop-files/loopbackfile4.img')\n",
    "r.run('printf \"y\" | sudo mkfs.ext4 /mnt/extra/loop-files/loopbackfile5.img')\n",
    "print(\"Formatted loop devices\")\n",
    "\n",
    "# Mount loop devices\n",
    "r.run(\"mkdir -p /mnt/extra/loop-devs/loop0\")\n",
    "r.run(\"mkdir -p /mnt/extra/loop-devs/loop1\")\n",
    "r.run(\"mkdir -p /mnt/extra/loop-devs/loop2\")\n",
    "r.run(\"mkdir -p /mnt/extra/loop-devs/loop3\")\n",
    "r.run(\"mkdir -p /mnt/extra/loop-devs/loop4\")\n",
    "\n",
    "with r.cd(\"/mnt/extra/loop-files/\"):\n",
    "    r.run(\"sudo mount -o loop /dev/loop0 /mnt/extra/loop-devs/loop0\")\n",
    "    r.run(\"sudo mount -o loop /dev/loop0 /mnt/extra/loop-devs/loop1\")\n",
    "    r.run(\"sudo mount -o loop /dev/loop0 /mnt/extra/loop-devs/loop2\")\n",
    "    r.run(\"sudo mount -o loop /dev/loop0 /mnt/extra/loop-devs/loop3\")\n",
    "    r.run(\"sudo mount -o loop /dev/loop0 /mnt/extra/loop-devs/loop4\")\n",
    "print(\"Mounted loop devices\")"
   ]
  },
  {
   "cell_type": "markdown",
   "id": "825630a3-c4b6-4958-99eb-26a3697e4389",
   "metadata": {},
   "source": [
    "# Deploy kubernetes using kubeadm"
   ]
  },
  {
   "cell_type": "code",
   "execution_count": null,
   "id": "82d109e3-993e-490c-a3fa-38ed8a8b6a02",
   "metadata": {},
   "outputs": [],
   "source": [
    "# Install CRI-O\n",
    "r.run(\"sudo curl -L -o /etc/yum.repos.d/devel:kubic:libcontainers:stable.repo https://download.opensuse.org/repositories/devel:/kubic:/libcontainers:/stable/CentOS_7/devel:kubic:libcontainers:stable.repo\")\n",
    "r.run(\"sudo curl -L -o /etc/yum.repos.d/devel:kubic:libcontainers:stable:cri-o:1.24.repo https://download.opensuse.org/repositories/devel:kubic:libcontainers:stable:cri-o:1.24/CentOS_7/devel:kubic:libcontainers:stable:cri-o:1.24.repo\")\n",
    "r.run(\"sudo yum install cri-o -y\")\n",
    "print(\"Installed Cri-o\")\n",
    "\n",
    "# Disable swap\n",
    "r.run(\"sudo swapoff -a\")\n",
    "r.run(\"sudo sed -i '/swap/d' /etc/fstab\")\n",
    "print(\"swap disabled\")\n",
    "\n",
    "# Configure ufw config\n",
    "r.run('cat <<EOF | sudo tee /usr/lib/sysctl.d/00-system.conf \\nnet/bridge/bridge-nf-call-ip6tables = 1 \\nnet/bridge/bridge-nf-call-iptables = 1 \\nnet/bridge/bridge-nf-call-arptables = 1 \\nnet/ipv4/ip_forward = 1 \\nEOF')\n",
    "print(\"UFW configured\")\n",
    "\n",
    "# Enable bridge and br_netfilter modprobe\n",
    "r.run(\"sudo modprobe bridge\")\n",
    "r.run(\"sudo modprobe br_netfilter\")\n",
    "print(\"Modprobe enabled\")\n",
    "\n",
    "# Modify sysctl config\n",
    "r.run(\"sudo ufw reload\")\n",
    "r.run(\"sudo sysctl --system\")\n",
    "print(\"Sysctl config modified\")\n",
    "\n",
    "# Add kubernetes repo\n",
    "r.run('cat <<EOF | sudo tee /etc/yum.repos.d/kubernetes.repo \\n[kubernetes] \\nname=Kubernetes \\nbaseurl=https://packages.cloud.google.com/yum/repos/kubernetes-el7-\\$basearch \\nenabled=1 \\ngpgcheck=1 \\nrepo_gpgcheck=0 \\ngpgkey=https://packages.cloud.google.com/yum/doc/yum-key.gpg https://packages.cloud.google.com/yum/doc/rpm-package-key.gpg \\nexclude=kubelet kubeadm kubectl \\nEOF')\n",
    "print(\"Kubernetes repo added\")\n",
    "\n",
    "# Set SELinux in permissive mode\n",
    "# r.run(\"sudo setenforce 0\")\n",
    "r.run(\"sudo sed -i 's/^SELINUX=enforcing$/SELINUX=permissive/' /etc/selinux/config\")\n",
    "r.run(\"yum repolist -y\")\n",
    "print(\"Changed SELinux\")\n",
    "\n",
    "# Install kubernetes\n",
    "r.run(\"sudo yum install -y kubelet-1.24.0 kubeadm-1.24.0 kubectl-1.24.0 --disableexcludes=kubernetes\")\n",
    "print(\"Kubernetes installed\")\n",
    "\n",
    "# Enable CRI-O and kubelet\n",
    "r.run(\"sudo systemctl daemon-reload\")\n",
    "r.run(\"sudo systemctl enable crio --now\")\n",
    "r.run(\"sudo systemctl enable kubelet --now\")\n",
    "print(\"Cri-o and kubelet enabled\")\n",
    "\n",
    "# Initialize control plane\n",
    "r.run(\"sudo kubeadm init --pod-network-cidr=192.168.0.0/16\")\n",
    "print(\"Control plane initialized\")\n",
    "\n",
    "# Add kubectl alias\n",
    "r.run(\"mkdir -p ~/.kube\")\n",
    "r.run(\"sudo cp -i /etc/kubernetes/admin.conf ~/.kube/config\")\n",
    "r.run(\"sudo chown cc ~/.kube/config\")\n",
    "print(\"kubectl alias added\")\n",
    "\n",
    "# Apply Calico for networking\n",
    "r.run(\"kubectl create -f https://projectcalico.docs.tigera.io/manifests/tigera-operator.yaml\")\n",
    "r.run(\"kubectl create -f https://projectcalico.docs.tigera.io/manifests/custom-resources.yaml\")\n",
    "print(\"Calico applied\")\n",
    "\n",
    "# Untaint master node\n",
    "r.run(\"kubectl taint nodes --all node-role.kubernetes.io/control-plane- node-role.kubernetes.io/master-\")\n",
    "print(\"Master node untainted\")"
   ]
  },
  {
   "cell_type": "markdown",
   "id": "8b4d7350-aef5-4409-af18-b3f02fa0e2a7",
   "metadata": {},
   "source": [
    "# Quickstart MinIO\n",
    "\n",
    "# ! IMPORTANT\n",
    "If r.put() fails, comment it and uncomment the r.run() command"
   ]
  },
  {
   "cell_type": "code",
   "execution_count": null,
   "id": "5dd4d64b-ba07-4706-a687-24603c287f9f",
   "metadata": {},
   "outputs": [],
   "source": [
    "# Download custom minio-dev yaml. It contains default\n",
    "# r.run(\"wget https://raw.githubusercontent.com/dParikesit/tutorial-collections/main/quickstart-minio-kubernetes/minio-dev.yaml\")\n",
    "r.put(\"./minio-dev.yaml\")\n",
    "print(\"Config downloaded\")"
   ]
  },
  {
   "cell_type": "code",
   "execution_count": null,
   "id": "602ab99a-ae27-4d30-a7b5-6278ce242bc8",
   "metadata": {},
   "outputs": [],
   "source": [
    "# Create MinIO pods\n",
    "r.run(\"kubectl apply -f ~/minio-dev.yaml\")\n",
    "print(\"MinIO pods created\")"
   ]
  },
  {
   "cell_type": "markdown",
   "id": "6a8d426e-f8a1-4063-ab86-60cf211be201",
   "metadata": {},
   "source": [
    "# Use the API\n",
    "\n",
    "Open 2 terminals\n",
    "\n",
    "In the first terminal, run   \n",
    "```kubectl port-forward pod/minio -n minio-dev 9000 9090```\n",
    "\n",
    "In the second terminal do anything with these credential  \n",
    "API endpoint = 127.0.0.1:9000  \n",
    "Access key = 'minioadmin'  \n",
    "Access secret = 'minioadmin'  "
   ]
  }
 ],
 "metadata": {
  "kernelspec": {
   "display_name": "Python 3 (ipykernel)",
   "language": "python",
   "name": "python3"
  },
  "language_info": {
   "codemirror_mode": {
    "name": "ipython",
    "version": 3
   },
   "file_extension": ".py",
   "mimetype": "text/x-python",
   "name": "python",
   "nbconvert_exporter": "python",
   "pygments_lexer": "ipython3",
   "version": "3.9.7"
  }
 },
 "nbformat": 4,
 "nbformat_minor": 5
}
